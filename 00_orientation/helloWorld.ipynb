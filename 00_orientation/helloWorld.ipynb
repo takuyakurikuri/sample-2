{
 "cells": [
  {
   "cell_type": "code",
   "execution_count": null,
   "id": "99f77918",
   "metadata": {},
   "outputs": [
    {
     "name": "stdout",
     "output_type": "stream",
     "text": [
      "開発を行ないます！\n"
     ]
    }
   ],
   "source": [
    "print(\"開発を行ないます！\")\n",
    "print(\"開発を行ないます！\")"
   ]
  },
  {
   "cell_type": "code",
   "execution_count": 1,
   "id": "d28ef721",
   "metadata": {},
   "outputs": [
    {
     "name": "stdout",
     "output_type": "stream",
     "text": [
      "hello world\n",
      "こんにちは！ 世界！\n"
     ]
    }
   ],
   "source": [
    "print(\"hello world\")\n",
    "print(\"こんにちは！ 世界！\")"
   ]
  }
 ],
 "metadata": {
  "kernelspec": {
   "display_name": ".venv",
   "language": "python",
   "name": "python3"
  },
  "language_info": {
   "codemirror_mode": {
    "name": "ipython",
    "version": 3
   },
   "file_extension": ".py",
   "mimetype": "text/x-python",
   "name": "python",
   "nbconvert_exporter": "python",
   "pygments_lexer": "ipython3",
   "version": "3.12.7"
  }
 },
 "nbformat": 4,
 "nbformat_minor": 5
}
