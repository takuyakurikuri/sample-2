{
 "cells": [
  {
   "cell_type": "code",
   "execution_count": 25,
   "id": "61cb4828",
   "metadata": {},
   "outputs": [
    {
     "name": "stdout",
     "output_type": "stream",
     "text": [
      "10\n",
      "[1, 2, 3, 5, 4]\n",
      "1\n"
     ]
    }
   ],
   "source": [
    "import random\n",
    "\n",
    "print(random.randint(1, 10))  # 1〜10のランダムな整数\n",
    "my_list = [1, 2, 3, 4, 5]\n",
    "random.shuffle(my_list)       # リストをランダムに並び替え\n",
    "print(my_list)\n",
    "print(random.choice(my_list)) # ランダムな要素を1つ選択"
   ]
  },
  {
   "cell_type": "code",
   "execution_count": 23,
   "id": "10b3210d",
   "metadata": {},
   "outputs": [
    {
     "name": "stdout",
     "output_type": "stream",
     "text": [
      "2025-05-01 15:42:06.159621\n",
      "1995-05-17 00:00:00\n",
      "365\n"
     ]
    }
   ],
   "source": [
    "import datetime\n",
    "\n",
    "now = datetime.datetime.now()\n",
    "print(now)\n",
    "\n",
    "birthday = datetime.datetime(1995, 5, 17)\n",
    "print(birthday)\n",
    "\n",
    "date1 = datetime.datetime(2023, 1, 1)\n",
    "date2 = datetime.datetime(2024, 1, 1)\n",
    "print((date2 - date1).days)  # 日数差"
   ]
  },
  {
   "cell_type": "code",
   "execution_count": 22,
   "id": "d68ba169",
   "metadata": {},
   "outputs": [
    {
     "name": "stdout",
     "output_type": "stream",
     "text": [
      "足し算: 7\n",
      "掛け算: 12\n"
     ]
    }
   ],
   "source": [
    "def calculate(a, b):\n",
    "    return a + b, a * b\n",
    "\n",
    "sum_result, product_result = calculate(3, 4)\n",
    "print(\"足し算:\", sum_result)\n",
    "print(\"掛け算:\", product_result)"
   ]
  },
  {
   "cell_type": "code",
   "execution_count": 21,
   "id": "b8b4a9d2",
   "metadata": {},
   "outputs": [
    {
     "name": "stdout",
     "output_type": "stream",
     "text": [
      "dict_keys(['apple', 'banana', 'cherry']) dict_values([100, 200, 300]) dict_items([('apple', 100), ('banana', 200), ('cherry', 300)])\n"
     ]
    }
   ],
   "source": [
    "fruit_prices = {\"apple\": 100, \"banana\": 200, \"cherry\": 300}\n",
    "print(fruit_prices.keys(), fruit_prices.values(), fruit_prices.items())"
   ]
  },
  {
   "cell_type": "code",
   "execution_count": 20,
   "id": "8496fc17",
   "metadata": {},
   "outputs": [
    {
     "name": "stdout",
     "output_type": "stream",
     "text": [
      "{} 200\n"
     ]
    }
   ],
   "source": [
    "fruit_prices = {\"apple\": 100, \"banana\": 200, \"cherry\": 300}\n",
    "\n",
    "del_price = fruit_prices.pop(\"banana\")\n",
    "del fruit_prices[\"cherry\"]\n",
    "fruit_prices.clear()\n",
    "\n",
    "print(fruit_prices, del_price)"
   ]
  },
  {
   "cell_type": "code",
   "execution_count": 19,
   "id": "6d314cae",
   "metadata": {},
   "outputs": [
    {
     "name": "stdout",
     "output_type": "stream",
     "text": [
      "{'key1': 0, 'key2': 0, 'key3': 0}\n"
     ]
    }
   ],
   "source": [
    "keys = [\"key1\", \"key2\", \"key3\"]\n",
    "default_dict = dict.fromkeys(keys, 0)\n",
    "\n",
    "print(default_dict)"
   ]
  },
  {
   "cell_type": "code",
   "execution_count": 18,
   "id": "b55a19a2",
   "metadata": {},
   "outputs": [
    {
     "name": "stdout",
     "output_type": "stream",
     "text": [
      "{'name': 'Bob', 'age': 30, 'is_student': True} {'apple': 100, 'banana': 200}\n"
     ]
    }
   ],
   "source": [
    "person = dict(name=\"Bob\", age=30, is_student=True)\n",
    "pairs = [(\"apple\", 100), (\"banana\", 200)]\n",
    "fruit_prices = dict(pairs)\n",
    "\n",
    "print(person, fruit_prices)"
   ]
  },
  {
   "cell_type": "code",
   "execution_count": 17,
   "id": "8d621937",
   "metadata": {},
   "outputs": [
    {
     "name": "stdout",
     "output_type": "stream",
     "text": [
      "(1, 2, 3) (4, 5, 6)\n"
     ]
    }
   ],
   "source": [
    "original_list = [1, 2, 3]\n",
    "copied_tuple = tuple(original_list)\n",
    "\n",
    "original_tuple = (4, 5, 6)\n",
    "copied_tuple2 = tuple(original_tuple)\n",
    "\n",
    "print(copied_tuple, copied_tuple2)"
   ]
  },
  {
   "cell_type": "code",
   "execution_count": 16,
   "id": "f0d9087f",
   "metadata": {},
   "outputs": [
    {
     "name": "stdout",
     "output_type": "stream",
     "text": [
      "[[1, 2, 3], [2, 4, 6], [3, 6, 9], [4, 8, 12]]\n"
     ]
    }
   ],
   "source": [
    "matrix = [[i * j for j in range(1, 4)] for i in range(1, 5)]\n",
    "print(matrix)"
   ]
  },
  {
   "cell_type": "code",
   "execution_count": 15,
   "id": "d02a1626",
   "metadata": {},
   "outputs": [
    {
     "name": "stdout",
     "output_type": "stream",
     "text": [
      "[1, 1, 2, 3, 4, 5, 9] [9, 5, 4, 3, 2, 1, 1]\n"
     ]
    }
   ],
   "source": [
    "numbers = [3, 1, 4, 1, 5, 9, 2]\n",
    "numbers.sort()\n",
    "sorted_numbers = sorted(numbers, reverse=True)\n",
    "\n",
    "print(numbers, sorted_numbers)\n"
   ]
  },
  {
   "cell_type": "code",
   "execution_count": 14,
   "id": "b4bb941c",
   "metadata": {},
   "outputs": [
    {
     "name": "stdout",
     "output_type": "stream",
     "text": [
      "2は存在するか: True\n",
      "2の出現回数: 3\n",
      "2の最初の位置: 1\n"
     ]
    }
   ],
   "source": [
    "numbers = [1, 2, 3, 2, 4, 2]\n",
    "print(\"2は存在するか:\", 2 in numbers)  # True\n",
    "print(\"2の出現回数:\", numbers.count(2))  # 3\n",
    "print(\"2の最初の位置:\", numbers.index(2))  # 1"
   ]
  },
  {
   "cell_type": "code",
   "execution_count": 13,
   "id": "fdb5e244",
   "metadata": {},
   "outputs": [
    {
     "name": "stdout",
     "output_type": "stream",
     "text": [
      "[1, 2, 3, 4, 5, 6] [1, 2, 3, 4, 5, 6]\n"
     ]
    }
   ],
   "source": [
    "list1 = [1, 2, 3]\n",
    "list2 = [4, 5, 6]\n",
    "combined = list1 + list2\n",
    "list1.extend(list2)\n",
    "\n",
    "print(combined, list1)"
   ]
  },
  {
   "cell_type": "code",
   "execution_count": 12,
   "id": "87ef1d72",
   "metadata": {},
   "outputs": [
    {
     "name": "stdout",
     "output_type": "stream",
     "text": [
      "['apple', 'grape', 'banana', 'cherry', 'mango', 'kiwi', 'pear']\n"
     ]
    }
   ],
   "source": [
    "fruits = [\"apple\", \"banana\", \"cherry\"]\n",
    "fruits.append(\"mango\")\n",
    "fruits.insert(1, \"grape\")\n",
    "fruits.extend([\"kiwi\", \"pear\"])\n",
    "print(fruits)"
   ]
  },
  {
   "cell_type": "code",
   "execution_count": 11,
   "id": "7807fa12",
   "metadata": {},
   "outputs": [
    {
     "name": "stdout",
     "output_type": "stream",
     "text": [
      "[1, 2] [0, 1, 2] [2, 3, 4, 5] [5, 4, 3, 2, 1, 0]\n"
     ]
    }
   ],
   "source": [
    "numbers = [0, 1, 2, 3, 4, 5]\n",
    "print(numbers[1:3], numbers[:3], numbers[2:], numbers[::-1])"
   ]
  },
  {
   "cell_type": "code",
   "execution_count": 10,
   "id": "8f7db052",
   "metadata": {},
   "outputs": [
    {
     "name": "stdout",
     "output_type": "stream",
     "text": [
      "[1, 2, 3] [1, 2, 3] [1, 2, 3]\n"
     ]
    }
   ],
   "source": [
    "original = [1, 2, 3]\n",
    "copy1 = original[:]\n",
    "copy2 = list(original)\n",
    "copy3 = original.copy()\n",
    "\n",
    "print(copy1, copy2, copy3)"
   ]
  },
  {
   "cell_type": "code",
   "execution_count": 9,
   "id": "4c172f5c",
   "metadata": {},
   "outputs": [
    {
     "name": "stdout",
     "output_type": "stream",
     "text": [
      "[None, None, None, None, None] [0, 0, 0, 0, 0, 0, 0, 0, 0, 0]\n"
     ]
    }
   ],
   "source": [
    "none_list = [None] * 5\n",
    "zeros = [0] * 10\n",
    "\n",
    "print(none_list, zeros)"
   ]
  },
  {
   "cell_type": "code",
   "execution_count": 8,
   "id": "1c24d56d",
   "metadata": {},
   "outputs": [
    {
     "name": "stdout",
     "output_type": "stream",
     "text": [
      "['h', 'e', 'l', 'l', 'o'] [1, 2, 3] [0, 1, 2, 3, 4]\n"
     ]
    }
   ],
   "source": [
    "string_to_list = list(\"hello\")\n",
    "tuple_to_list = list((1, 2, 3))\n",
    "range_to_list = list(range(5))\n",
    "\n",
    "print(string_to_list, tuple_to_list, range_to_list)"
   ]
  },
  {
   "cell_type": "code",
   "execution_count": 7,
   "id": "74aae808",
   "metadata": {},
   "outputs": [
    {
     "name": "stdout",
     "output_type": "stream",
     "text": [
      "[1, 2, 3, 4, 5] ['apple', 'banana', 'cherry'] [1, 'apple', 3.14, True] []\n"
     ]
    }
   ],
   "source": [
    "numbers = [1, 2, 3, 4, 5]\n",
    "fruits = [\"apple\", \"banana\", \"cherry\"]\n",
    "mixed = [1, \"apple\", 3.14, True]\n",
    "empty_list = []\n",
    "\n",
    "print(numbers, fruits, mixed, empty_list)"
   ]
  },
  {
   "cell_type": "code",
   "execution_count": 6,
   "id": "c5aa9bf2",
   "metadata": {},
   "outputs": [
    {
     "name": "stdout",
     "output_type": "stream",
     "text": [
      "11\n"
     ]
    }
   ],
   "source": [
    "\n",
    "s = \"TechAcademy\"\n",
    "print(len(s))  # 11（文字列の長さ）"
   ]
  },
  {
   "cell_type": "code",
   "execution_count": 4,
   "id": "fe12d630",
   "metadata": {},
   "outputs": [
    {
     "name": "stdout",
     "output_type": "stream",
     "text": [
      "T\n",
      "E\n",
      "C\n",
      "H\n",
      "A\n",
      "C\n",
      "A\n",
      "D\n",
      "E\n",
      "M\n",
      "Y\n"
     ]
    }
   ],
   "source": [
    "s = \"TechAcademy\"\n",
    "for char in s:\n",
    "    print(char.upper())  # 各文字を大文字に変換して表示"
   ]
  },
  {
   "cell_type": "code",
   "execution_count": 3,
   "id": "74e6dd50",
   "metadata": {},
   "outputs": [
    {
     "name": "stdout",
     "output_type": "stream",
     "text": [
      "abcdefg\n",
      "vwxyz\n",
      "acegikmoqsuwy\n"
     ]
    }
   ],
   "source": [
    "s = \"abcdefghijklmnopqrstuvwxyz\"\n",
    "print(s[0:7])    # abcdefg\n",
    "print(s[-5:])    # vwxyz\n",
    "print(s[::2])    # acegikmoqsuwy（2個おき）"
   ]
  },
  {
   "cell_type": "code",
   "execution_count": 2,
   "id": "e95cf0aa",
   "metadata": {},
   "outputs": [
    {
     "name": "stdout",
     "output_type": "stream",
     "text": [
      "a\n",
      "z\n"
     ]
    }
   ],
   "source": [
    "s = \"abcdefghijklmnopqrstuvwxyz\"\n",
    "print(s[0])  # a（先頭）\n",
    "print(s[-1])  # z（末尾）"
   ]
  },
  {
   "cell_type": "code",
   "execution_count": null,
   "id": "1ca6e021",
   "metadata": {
    "vscode": {
     "languageId": "ini"
    }
   },
   "outputs": [],
   "source": [
    "try:\n",
    "    # エラーが起こる可能性のある処理\n",
    "    num = int(input(\"整数を入力してください: \"))\n",
    "    result = 100 / num\n",
    "    print(f\"100 を {num} で割った結果は {result} です\")\n",
    "except ZeroDivisionError:\n",
    "    # 0 で割った場合のエラー処理\n",
    "    print(\"エラー: 0 で割ることはできません\")\n",
    "except ValueError:\n",
    "    # 数値以外を入力した場合のエラー処理\n",
    "    print(\"エラー: 整数を入力してください\")\n"
   ]
  },
  {
   "cell_type": "code",
   "execution_count": null,
   "id": "eff581d3",
   "metadata": {},
   "outputs": [
    {
     "name": "stdout",
     "output_type": "stream",
     "text": [
      "a & b: 0b1000\n",
      "a << 1: 0b11000\n"
     ]
    },
    {
     "name": "stdout",
     "output_type": "stream",
     "text": [
      "a & b: 0b1000\n",
      "a << 1: 0b11000\n"
     ]
    }
   ],
   "source": [
    "a = 0b1100  # 12\n",
    "b = 0b1010  # 10\n",
    "print(\"a & b:\", bin(a & b))  # 0b1000\n",
    "print(\"a << 1:\", bin(a << 1))  # 0b11000"
   ]
  },
  {
   "cell_type": "code",
   "execution_count": 14,
   "id": "13324622",
   "metadata": {},
   "outputs": [
    {
     "name": "stdout",
     "output_type": "stream",
     "text": [
      "10 < x and x < 20: True\n",
      "not (x == 15): False\n"
     ]
    }
   ],
   "source": [
    "x = 15\n",
    "print(\"10 < x and x < 20:\", 10 < x and x < 20)  # True\n",
    "print(\"not (x == 15):\", not (x == 15))  # False"
   ]
  },
  {
   "cell_type": "code",
   "execution_count": 13,
   "id": "68b18c60",
   "metadata": {},
   "outputs": [
    {
     "name": "stdout",
     "output_type": "stream",
     "text": [
      "100 < x < 200: True\n"
     ]
    }
   ],
   "source": [
    "x = 150\n",
    "print(\"100 < x < 200:\", 100 < x < 200)  # True\n"
   ]
  },
  {
   "cell_type": "code",
   "execution_count": 12,
   "id": "aa1e09ad",
   "metadata": {},
   "outputs": [
    {
     "name": "stdout",
     "output_type": "stream",
     "text": [
      "a > b: True\n",
      "a == b: False\n"
     ]
    }
   ],
   "source": [
    "a = 10\n",
    "b = 5\n",
    "print(\"a > b:\", a > b)  # True\n",
    "print(\"a == b:\", a == b)  # False"
   ]
  },
  {
   "cell_type": "code",
   "execution_count": 11,
   "id": "4af2cd68",
   "metadata": {},
   "outputs": [
    {
     "name": "stdout",
     "output_type": "stream",
     "text": [
      "x += 5: 15\n",
      "x *= 2: 30\n"
     ]
    }
   ],
   "source": [
    "x = 10\n",
    "x += 5\n",
    "print(\"x += 5:\", x)  # 15\n",
    "x *= 2\n",
    "print(\"x *= 2:\", x)  # 30"
   ]
  },
  {
   "cell_type": "code",
   "execution_count": 10,
   "id": "c9ac6067",
   "metadata": {},
   "outputs": [
    {
     "name": "stdout",
     "output_type": "stream",
     "text": [
      "加算: 13\n",
      "割算: 3.3333333333333335\n",
      "累乗: 1000\n"
     ]
    }
   ],
   "source": [
    "a = 10\n",
    "b = 3\n",
    "print(\"加算:\", a + b)  # 13\n",
    "print(\"割算:\", a / b)  # 3.3333...\n",
    "print(\"累乗:\", a ** b)  # 1000"
   ]
  },
  {
   "cell_type": "code",
   "execution_count": 9,
   "id": "bb943e3c",
   "metadata": {},
   "outputs": [
    {
     "name": "stdout",
     "output_type": "stream",
     "text": [
      "None\n"
     ]
    }
   ],
   "source": [
    "x = None\n",
    "print(x)  # None"
   ]
  },
  {
   "cell_type": "code",
   "execution_count": 8,
   "id": "b0ffb596",
   "metadata": {},
   "outputs": [
    {
     "name": "stdout",
     "output_type": "stream",
     "text": [
      "True\n",
      "False\n"
     ]
    }
   ],
   "source": [
    "a = 5\n",
    "b = 10\n",
    "print(a < b)  # True\n",
    "print(a == b)  # False"
   ]
  },
  {
   "cell_type": "code",
   "execution_count": 7,
   "id": "f1c3e7f8",
   "metadata": {},
   "outputs": [
    {
     "name": "stdout",
     "output_type": "stream",
     "text": [
      "PYTHON\n",
      "python\n"
     ]
    }
   ],
   "source": [
    "text = \"Python\"\n",
    "print(text.upper())  # 'PYTHON'\n",
    "print(text.lower())  # 'python'"
   ]
  },
  {
   "cell_type": "code",
   "execution_count": 6,
   "id": "f731cf5f",
   "metadata": {},
   "outputs": [
    {
     "name": "stdout",
     "output_type": "stream",
     "text": [
      "Hello, World!\n"
     ]
    }
   ],
   "source": [
    "text = \"Hello, World!\"\n",
    "print(text)"
   ]
  },
  {
   "cell_type": "code",
   "execution_count": 5,
   "id": "13404345",
   "metadata": {},
   "outputs": [
    {
     "name": "stdout",
     "output_type": "stream",
     "text": [
      "(1+3.5j)\n"
     ]
    }
   ],
   "source": [
    "c = 2 + 3j\n",
    "d = -1 + 0.5j\n",
    "print(c + d)  # (1+3.5j)"
   ]
  },
  {
   "cell_type": "code",
   "execution_count": 4,
   "id": "fe9375b9",
   "metadata": {},
   "outputs": [
    {
     "name": "stdout",
     "output_type": "stream",
     "text": [
      "0.30000000000000004\n"
     ]
    }
   ],
   "source": [
    "x = 3.14\n",
    "y = 0.1 + 0.2  # 浮動小数点誤差\n",
    "print(y)  # 0.30000000000000004"
   ]
  },
  {
   "cell_type": "code",
   "execution_count": 3,
   "id": "b4e45d59",
   "metadata": {},
   "outputs": [
    {
     "name": "stdout",
     "output_type": "stream",
     "text": [
      "3.3333333333333335\n",
      "3\n"
     ]
    }
   ],
   "source": [
    "print(10 / 3)   # 3.3333333\n",
    "print(10 // 3)  # 3"
   ]
  },
  {
   "cell_type": "code",
   "execution_count": 2,
   "id": "7b6818b7",
   "metadata": {},
   "outputs": [
    {
     "name": "stdout",
     "output_type": "stream",
     "text": [
      "5\n"
     ]
    }
   ],
   "source": [
    "a = 10\n",
    "b = -5\n",
    "c = 0\n",
    "print(a + b)  # 5"
   ]
  },
  {
   "cell_type": "code",
   "execution_count": 1,
   "id": "25385669",
   "metadata": {},
   "outputs": [
    {
     "name": "stdout",
     "output_type": "stream",
     "text": [
      "三科目の平均点は 83.33333333333333 点です\n"
     ]
    }
   ],
   "source": [
    "japanese = 85\n",
    "math = 90\n",
    "english = 75\n",
    "\n",
    "average = (japanese + math + english) / 3\n",
    "\n",
    "print(\"三科目の平均点は\", average, \"点です\")"
   ]
  }
 ],
 "metadata": {
  "kernelspec": {
   "display_name": ".venv",
   "language": "python",
   "name": "python3"
  },
  "language_info": {
   "codemirror_mode": {
    "name": "ipython",
    "version": 3
   },
   "file_extension": ".py",
   "mimetype": "text/x-python",
   "name": "python",
   "nbconvert_exporter": "python",
   "pygments_lexer": "ipython3",
   "version": "3.12.7"
  }
 },
 "nbformat": 4,
 "nbformat_minor": 5
}
